{
  "nbformat": 4,
  "nbformat_minor": 0,
  "metadata": {
    "colab": {
      "provenance": [],
      "authorship_tag": "ABX9TyMznwP801DU9vgfBxCN9yyZ",
      "include_colab_link": true
    },
    "kernelspec": {
      "name": "python3",
      "display_name": "Python 3"
    },
    "language_info": {
      "name": "python"
    }
  },
  "cells": [
    {
      "cell_type": "markdown",
      "metadata": {
        "id": "view-in-github",
        "colab_type": "text"
      },
      "source": [
        "<a href=\"https://colab.research.google.com/github/tiennvcs/EE6363_AdvancedML/blob/main/HW1/P3/Task_2_LS_Single_Shot_Solution.ipynb\" target=\"_parent\"><img src=\"https://colab.research.google.com/assets/colab-badge.svg\" alt=\"Open In Colab\"/></a>"
      ]
    },
    {
      "cell_type": "markdown",
      "source": [
        "Consider least square problem $\\min_{x \\in \\mathbf{R}^3}||y - Ax||_2^2$, where $A = \\begin{bmatrix}\n",
        "  3 & 1 & 2 \\\\\n",
        "  1 & 3 & 1 \\\\\n",
        "  2 & 1 & 3 \\\\\n",
        "\\end{bmatrix}\n",
        "$, and $y = \\begin{bmatrix}\n",
        "  2 \\\\\n",
        "  3 \\\\\n",
        "  4 \\\\\n",
        "\\end{bmatrix}$"
      ],
      "metadata": {
        "id": "YBuke97wNnh_"
      }
    },
    {
      "cell_type": "markdown",
      "source": [
        "## Solve by stationarity condition"
      ],
      "metadata": {
        "id": "jRHMS35AQAJA"
      }
    },
    {
      "cell_type": "markdown",
      "source": [
        "To solve above problem by stationarity condition, we need calculate the gradient of $f(x) = ||y - Ax||_2^2$, and set this gradient equal to 0, and then find the solution $x$.\n",
        "\n",
        "$$\n",
        "∇_xf(x) = 2(A^TAx - A^Ty)\n",
        "$$\n",
        "\n",
        "Set $∇_xf(x) = 0$, we have:\n",
        "$$\n",
        "    2(A^TAx - A^Ty) = 0 ⇔   (A^TA)x  = A^Ty ⇔ x  = (A^TA)^{-1}A^Ty\n",
        "$$\n",
        "in case of $A^TA$ is inversible."
      ],
      "metadata": {
        "id": "Kli8m0iQTiyk"
      }
    },
    {
      "cell_type": "code",
      "source": [
        "import numpy as np\n",
        "from numpy.linalg import inv, svd, norm\n",
        "from typing import Union"
      ],
      "metadata": {
        "id": "suxQ1WgdVgEf"
      },
      "execution_count": 1,
      "outputs": []
    },
    {
      "cell_type": "code",
      "execution_count": 2,
      "metadata": {
        "id": "RiBAE1K9NEgs"
      },
      "outputs": [],
      "source": [
        "def solve_leastsquare_inversion(A: np.ndarray, y: np.ndarray) -> np.ndarray:\n",
        "    t = inv((A.T).dot(A))\n",
        "    x = (t.dot(A.T)).dot(y)\n",
        "    return x"
      ]
    },
    {
      "cell_type": "code",
      "source": [
        "# Test on A, y\n",
        "A = np.array([\n",
        "    [3, 1, 2],\n",
        "    [1, 3, 1],\n",
        "    [2, 1, 3],\n",
        "])\n",
        "\n",
        "y = np.array([2, 3, 4]).T"
      ],
      "metadata": {
        "id": "Ef0_HbFNVmWB"
      },
      "execution_count": 3,
      "outputs": []
    },
    {
      "cell_type": "code",
      "source": [
        "xi = solve_leastsquare_inversion(A, y)"
      ],
      "metadata": {
        "id": "pe5S15JEWFl4"
      },
      "execution_count": 4,
      "outputs": []
    },
    {
      "cell_type": "code",
      "source": [
        "print(\"The solution founded x = {}\".format(xi))"
      ],
      "metadata": {
        "colab": {
          "base_uri": "https://localhost:8080/"
        },
        "id": "T73XpQ3gWYDw",
        "outputId": "027c007c-ad73-42fc-8aa6-4f9236536ea6"
      },
      "execution_count": 5,
      "outputs": [
        {
          "output_type": "stream",
          "name": "stdout",
          "text": [
            "The solution founded x = [-0.53846154  0.69230769  1.46153846]\n"
          ]
        }
      ]
    },
    {
      "cell_type": "markdown",
      "source": [
        "## Solve by stabilized SVD"
      ],
      "metadata": {
        "id": "Y1cPzeavXxbu"
      }
    },
    {
      "cell_type": "markdown",
      "source": [
        "As abovementioned, we need to set gradient equal to 0. It comes up with the system of linear equations:\n",
        "$$\n",
        "    (A^TA)x  = A^Ty\n",
        "$$\n",
        "To solve it using SVD, we need decompose $(A^TA) = U S V^T$, then we have general solution using SVD: $$x = VS^{-1}U^TA^Ty$$"
      ],
      "metadata": {
        "id": "yaVRAFOvYmu8"
      }
    },
    {
      "cell_type": "code",
      "source": [
        "def standardSVD(A: np.ndarray) -> Union[np.ndarray, np.ndarray, np.ndarray]:\n",
        "    U, S, Vt = svd(A)\n",
        "    a = np.zeros(A.shape)\n",
        "    np.fill_diagonal(a, S)\n",
        "    S = a\n",
        "    return U, S, Vt"
      ],
      "metadata": {
        "id": "6iXi534lYM6s"
      },
      "execution_count": 6,
      "outputs": []
    },
    {
      "cell_type": "code",
      "source": [
        "def stablizedSVD(A: np.ndarray, epsilon=0.5) -> Union[np.ndarray, np.ndarray, np.ndarray]:\n",
        "    # Call SVD from scipy\n",
        "    U, S, Vt = standardSVD(A)\n",
        "    # Find maximum k that satisfy S_{k, k}/S_{0, 0} >= epsilon\n",
        "    k = 0\n",
        "    while k < S.shape[0]:\n",
        "        if S[k, k]/S[0, 0] < epsilon:\n",
        "            break\n",
        "        k += 1\n",
        "    k = k -1\n",
        "    # Gather columns of U to form new Us\n",
        "    Us = U[:, 0:k+1]\n",
        "    # Gather columns of S to form new Ss\n",
        "    Ss = S[:k+1, :k+1]\n",
        "    # Gather rows of Vt to form new Vts\n",
        "    Vts = Vt[:k+1, :]\n",
        "    return Us, Ss, Vts"
      ],
      "metadata": {
        "id": "6CF3OV6XYEDC"
      },
      "execution_count": 7,
      "outputs": []
    },
    {
      "cell_type": "code",
      "source": [
        "def solve_leastsquare_stabilizedSVD(A: np.ndarray, y: np.ndarray, epsilon=0.5) -> np.ndarray:\n",
        "    # Calculate matrix W = A^T.A\n",
        "    W = (A.T).dot(A)\n",
        "    # Call stablizedSVD to get U, S, V\n",
        "    Us, Ss, Vts = stablizedSVD(W, epsilon=epsilon)\n",
        "    print(\"Singular values after reduced: \\n{}\".format(Ss))\n",
        "    # Compute the general solution x = VS^-1U^TA^Ty\n",
        "    x = (((Vts.T).dot(inv(Ss)).dot(Us.T)).dot(A.T)).dot(y)\n",
        "    return x"
      ],
      "metadata": {
        "id": "zJRn-BidX1-z"
      },
      "execution_count": 8,
      "outputs": []
    },
    {
      "cell_type": "code",
      "source": [
        "xs = solve_leastsquare_stabilizedSVD(A, y, epsilon=0)"
      ],
      "metadata": {
        "colab": {
          "base_uri": "https://localhost:8080/"
        },
        "id": "J0yPeK4HbsLH",
        "outputId": "63d978d9-ece2-493a-e1e4-04eef7cbdfe2"
      },
      "execution_count": 9,
      "outputs": [
        {
          "output_type": "stream",
          "name": "stdout",
          "text": [
            "Singular values after reduced: \n",
            "[[32.85640646  0.          0.        ]\n",
            " [ 0.          5.14359354  0.        ]\n",
            " [ 0.          0.          1.        ]]\n"
          ]
        }
      ]
    },
    {
      "cell_type": "code",
      "source": [
        "xn = solve_leastsquare_stabilizedSVD(A, y, epsilon=0.1)"
      ],
      "metadata": {
        "colab": {
          "base_uri": "https://localhost:8080/"
        },
        "id": "PBdnvvc3buvm",
        "outputId": "57bc45e1-0532-4812-a603-19d405d89052"
      },
      "execution_count": 10,
      "outputs": [
        {
          "output_type": "stream",
          "name": "stdout",
          "text": [
            "Singular values after reduced: \n",
            "[[32.85640646  0.        ]\n",
            " [ 0.          5.14359354]]\n"
          ]
        }
      ]
    },
    {
      "cell_type": "markdown",
      "source": [
        "$\\rightarrow$ When choose $\\epsilon = 0$, stabilized SVD get solution $x^* = [-0.53846154,  0.69230769,  1.46153846]^T$. It is also the solution found by inversion method previously. There is, however, difference when setting $\\epsilon=0.1$, it eliminates the third singular values and absolutely affect on $U_s, Vt_s$. Therefore, the solution $x^*$ founded by applying stabilized SVD, in this case, is approximate solution."
      ],
      "metadata": {
        "id": "pJe-c7w9dTD4"
      }
    },
    {
      "cell_type": "code",
      "source": [
        "# Define f(x) function\n",
        "def f(A: np.ndarray, x: np.array, y: np.array):\n",
        "    return norm(y-A.dot(x))**2"
      ],
      "metadata": {
        "id": "XvJJ6CuldS6T"
      },
      "execution_count": 11,
      "outputs": []
    },
    {
      "cell_type": "code",
      "source": [
        "zi = f(A, xi, y)\n",
        "zs = f(A, xs, y)\n",
        "zn = f(A, xn, y)"
      ],
      "metadata": {
        "id": "XZYOYkI_c19Y"
      },
      "execution_count": 12,
      "outputs": []
    },
    {
      "cell_type": "code",
      "source": [
        "# Show the value of the metric at the optimal points\n",
        "print(\"Optimmal value x = {} -> f(x) = {} founded by inversion method\".format(xi, zi))\n",
        "print(\"Optimmal value x = {} -> f(x) = {} founded by stablized SVD method with epsilon = 0\".format(xs, zs))\n",
        "print(\"Optimmal value x = {} -> f(x) = {} founded by stablized SVD method with epsilon = 0.1\".format(xn, zn))"
      ],
      "metadata": {
        "colab": {
          "base_uri": "https://localhost:8080/"
        },
        "id": "juPfHGBAfQkJ",
        "outputId": "7f691bba-d60c-41da-d60f-f557dafc807b"
      },
      "execution_count": 13,
      "outputs": [
        {
          "output_type": "stream",
          "name": "stdout",
          "text": [
            "Optimmal value x = [-0.53846154  0.69230769  1.46153846] -> f(x) = 4.141519752410312e-30 founded by inversion method\n",
            "Optimmal value x = [-0.53846154  0.69230769  1.46153846] -> f(x) = 3.3526588471893e-30 founded by stablized SVD method with epsilon = 0\n",
            "Optimmal value x = [0.46153846 0.69230769 0.46153846] -> f(x) = 2.0000000000000004 founded by stablized SVD method with epsilon = 0.1\n"
          ]
        }
      ]
    },
    {
      "cell_type": "markdown",
      "source": [
        "It very makes sense when we look at the solution $x^* = [-0.53846154,  0.69230769,  1.46153846]^T$ founded by inversion and stabilized SVD method and corresponding value $f(x) ≈ 0$. Actually, it should be 0, but we have concerns with accuarcy calculated by Python . When we decompose $A$ into product of $U, S, V,$(in task 1), we see that the $W$ have 3 positive singular values, so $\\text{rank}(A) = 3$. It means, $\\text{span}\\{A_{:, i}\\} , \\ i = 1, 2, 3$ form 3D world, or $\\mathbf{R}^3$. Obviously, $y \\in \\mathbf{R}^3$, and $Ax$ is the transformation operation turning $x \\in \\mathbf{R}^3$ to another vector $z \\in \\mathbf{R}^3$. The $f(x) = ||y - Ax||^2_2 = ||y - z||^2_2$ is the distance between $z$ and $y$, so $f(x)$ hit the mimimum value iif $z = y$, or the distance equals $0$."
      ],
      "metadata": {
        "id": "_N0SJSgygtuC"
      }
    },
    {
      "cell_type": "code",
      "source": [],
      "metadata": {
        "id": "iwpOBa0KfzDN"
      },
      "execution_count": 13,
      "outputs": []
    }
  ]
}